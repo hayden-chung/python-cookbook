{
 "cells": [
  {
   "cell_type": "code",
   "execution_count": 13,
   "metadata": {},
   "outputs": [
    {
     "data": {
      "text/plain": [
       "3"
      ]
     },
     "execution_count": 13,
     "metadata": {},
     "output_type": "execute_result"
    }
   ],
   "source": [
    "1+2"
   ]
  },
  {
   "cell_type": "code",
   "execution_count": 14,
   "metadata": {},
   "outputs": [
    {
     "name": "stdout",
     "output_type": "stream",
     "text": [
      "ACEM 50 91.1 ACEM\n",
      "ACEM\n",
      "2012 12 21\n"
     ]
    }
   ],
   "source": [
    "data = [\"ACEM\", 50, 91.1, (2012, 12, 21)]\n",
    "_, nummber, decimal, __= data\n",
    "print(_, nummber, decimal, _)\n",
    "print(_)\n",
    "year, month, day = __\n",
    "print(year, month, day)"
   ]
  },
  {
   "cell_type": "code",
   "execution_count": 15,
   "metadata": {},
   "outputs": [
    {
     "name": "stdout",
     "output_type": "stream",
     "text": [
      "['dave@example.com', '123-4567-890', '123-1923-123']\n"
     ]
    }
   ],
   "source": [
    "record = (\"Dave\", \"dave@example.com\", \"123-4567-890\", \"123-1923-123\")\n",
    "name, *email = record\n",
    "print(email)"
   ]
  },
  {
   "cell_type": "code",
   "execution_count": 16,
   "metadata": {},
   "outputs": [
    {
     "name": "stdout",
     "output_type": "stream",
     "text": [
      "(0, 'a')\n",
      "(1, 'b')\n",
      "(2, 'c')\n"
     ]
    }
   ],
   "source": [
    "a = ['a', 'b', 'c']\n",
    "b = [(0, 'a'), (1, 'b'), (2, 'c')]\n",
    "\n",
    "for i in enumerate(a):\n",
    "    print(i)"
   ]
  },
  {
   "cell_type": "code",
   "execution_count": 17,
   "metadata": {},
   "outputs": [
    {
     "name": "stdout",
     "output_type": "stream",
     "text": [
      "[0, 1, 2, 3, 4, 5, 6, 7, 8, 9, 10, 11, 12, 13, 14, 15, 16, 17, 18, 19, 20, 21, 22, 23, 24, 25, 26, 27, 28, 29, 30, 31, 32, 33, 34, 35, 36, 37, 38, 39, 40, 41, 42, 43, 44, 45, 46, 47, 48, 49, 50, 51, 52, 53, 54, 55, 56, 57, 58, 59, 60, 61, 62, 63, 64, 65, 66, 67, 68, 69, 70, 71, 72, 73, 74, 75, 76, 77, 78, 79, 80, 81, 82, 83, 84, 85, 86, 87, 88, 89, 90, 91, 92, 93, 94, 95, 96, 97, 98, 99]\n",
      "[95, 96, 97, 98, 99]\n"
     ]
    }
   ],
   "source": [
    "a = []\n",
    "\n",
    "for i in range(100):\n",
    "    a.append(i)\n",
    "\n",
    "a\n",
    "*_, one, two, three, four, five = a\n",
    "history_list = [*_, one, two, three, four, five]\n",
    "print(history_list)\n",
    "\n",
    "history = a[:-6:-1]\n",
    "print(history[::-1])\n",
    "\n",
    "def linkedList(a):\n",
    "    head = a[0]\n",
    "    tail = head\n",
    "    for i in range(1, len(a)):\n",
    "        node = a[i]\n",
    "\n"
   ]
  },
  {
   "cell_type": "code",
   "execution_count": 18,
   "metadata": {},
   "outputs": [
    {
     "name": "stdout",
     "output_type": "stream",
     "text": [
      "[65, 66, 67, 68, 69]\n"
     ]
    }
   ],
   "source": [
    "a = []\n",
    "\n",
    "for i in range(100):\n",
    "    a.append(i)\n",
    "\n",
    "new_list = []\n",
    "\n",
    "for i in a:\n",
    "\n",
    "    if i == 70:\n",
    "        break\n",
    "    if len(new_list) >= 5:\n",
    "        new_list.pop(0)\n",
    "\n",
    "    new_list.append(i)\n",
    "\n",
    "print(new_list)"
   ]
  },
  {
   "cell_type": "code",
   "execution_count": 19,
   "metadata": {},
   "outputs": [
    {
     "name": "stdout",
     "output_type": "stream",
     "text": [
      "[-4, 1, 2, 2, 7, 8, 18, 23, 23, 37, 42]\n",
      "[-4, 1, 2]\n",
      "[23, 37, 42]\n"
     ]
    }
   ],
   "source": [
    "nums = [1, 8, 2, 23, 7, -4, 18, 23, 42, 37, 2]\n",
    "\n",
    "nums.sort()\n",
    "print(nums)\n",
    "n = 3\n",
    "print(nums[:n])\n",
    "print(nums[-n:])\n",
    "\n",
    "\n",
    "\n",
    "\n"
   ]
  },
  {
   "cell_type": "code",
   "execution_count": 32,
   "metadata": {},
   "outputs": [
    {
     "ename": "TypeError",
     "evalue": "User.__init__() missing 2 required positional arguments: 'first_name' and 'last_name'",
     "output_type": "error",
     "traceback": [
      "\u001b[1;31m---------------------------------------------------------------------------\u001b[0m",
      "\u001b[1;31mTypeError\u001b[0m                                 Traceback (most recent call last)",
      "Cell \u001b[1;32mIn[32], line 9\u001b[0m\n\u001b[0;32m      6\u001b[0m     \u001b[39mdef\u001b[39;00m \u001b[39m__repr__\u001b[39m(\u001b[39mself\u001b[39m):\n\u001b[0;32m      7\u001b[0m         \u001b[39mreturn\u001b[39;00m \u001b[39m'\u001b[39m\u001b[39mUser(\u001b[39m\u001b[39m{}\u001b[39;00m\u001b[39m)\u001b[39m\u001b[39m'\u001b[39m\u001b[39m.\u001b[39mformat(\u001b[39mself\u001b[39m\u001b[39m.\u001b[39mid)\n\u001b[1;32m----> 9\u001b[0m users \u001b[39m=\u001b[39m [User(\u001b[39m23\u001b[39;49m), User(\u001b[39m3\u001b[39m), User(\u001b[39m99\u001b[39m)]\n\u001b[0;32m     10\u001b[0m \u001b[39mprint\u001b[39m(users)\n\u001b[0;32m     11\u001b[0m \u001b[39mprint\u001b[39m(\u001b[39mlen\u001b[39m(users))\n",
      "\u001b[1;31mTypeError\u001b[0m: User.__init__() missing 2 required positional arguments: 'first_name' and 'last_name'"
     ]
    }
   ],
   "source": [
    "class User:\n",
    "    def __init__(self, age, first_name, last_name):\n",
    "        self.age = age\n",
    "        self.first_name = first_name\n",
    "        self.last_name = last_name\n",
    "\n",
    "    def __repr__(self):\n",
    "        return f'{self.first_name} {self.last_name}: ({self.age})'\n",
    "    \n",
    "users = [User(23), User(3), User(99)]\n",
    "print(users)\n",
    "print(len(users))\n",
    "print(sorted(users, key=lambda u: u.id))\n"
   ]
  },
  {
   "cell_type": "code",
   "execution_count": 37,
   "metadata": {},
   "outputs": [
    {
     "name": "stdout",
     "output_type": "stream",
     "text": [
      "[1, 4, 10, 2, 3]\n"
     ]
    }
   ],
   "source": [
    "import math\n",
    "mylist = [1, 4, -5, 10, -7, 2, 3, -1]\n",
    "b = [n for n in mylist if n > 0]\n",
    "print(b)"
   ]
  },
  {
   "cell_type": "code",
   "execution_count": 25,
   "metadata": {},
   "outputs": [
    {
     "name": "stdout",
     "output_type": "stream",
     "text": [
      "['asdf', 'fjdk', 'afed', 'fjek', 'asdf']\n"
     ]
    }
   ],
   "source": [
    "alphabet = ['a', 'b', 'c', 'd', 'e', 'f', 'g', 'h', 'i', 'j', 'k', 'l', 'm', 'n', 'o', 'p', 'q', 'r', 's', 't', 'u', 'v', 'w', 'x', 'y', 'z']\n",
    "\n",
    "line = 'asdf fjdk; afed, fjek,asdf, foo'\n",
    "word_arr = []\n",
    "\n",
    "temp_string = ''\n",
    "for char in line:\n",
    "    if char in alphabet:\n",
    "        temp_string += char\n",
    "    else:\n",
    "        if temp_string != '':\n",
    "            word_arr.append(temp_string)\n",
    "        temp_string = ''\n",
    "print(word_arr)\n",
    "\n"
   ]
  },
  {
   "cell_type": "code",
   "execution_count": 23,
   "metadata": {},
   "outputs": [
    {
     "name": "stdout",
     "output_type": "stream",
     "text": [
      "['asdf', 'fjdk', '', 'afed', 'fjek', 'asdf', 'foo']\n"
     ]
    }
   ],
   "source": [
    "import re\n",
    "line = 'asdf fjdk; afed, fjek,asdf, foo'\n",
    "\n",
    "print(re.split(r'[;,\\s]\\s*', line))\n"
   ]
  },
  {
   "cell_type": "code",
   "execution_count": 35,
   "metadata": {},
   "outputs": [
    {
     "name": "stdout",
     "output_type": "stream",
     "text": [
      "['1.12.py', 'cb_16.py', 'linkedlist.py', 'test.py']\n"
     ]
    }
   ],
   "source": [
    "import os \n",
    "filenames  = os.listdir('.')\n",
    "\n",
    "python_files = []\n",
    "for filename in filenames:\n",
    "    if filename.endswith('.py'):\n",
    "        python_files.append(filename)\n",
    "print(python_files)"
   ]
  },
  {
   "cell_type": "code",
   "execution_count": 42,
   "metadata": {},
   "outputs": [
    {
     "name": "stdout",
     "output_type": "stream",
     "text": [
      "['.git', '1.12.py', 'cb_16.py', 'LICENSE', 'linkedlist.py', 'main.ipynb', 'README.md', 'test.py']\n",
      "['1.12.py', 'cb_16.py', 'linkedlist.py', 'test.py']\n"
     ]
    }
   ],
   "source": [
    "import os \n",
    "filenames  = os.listdir('.')\n",
    "print(filenames)\n",
    "\n",
    "python_files = [filename for filename in filenames if filename.endswith('.py')]\n",
    "\n",
    "print(python_files)"
   ]
  },
  {
   "cell_type": "code",
   "execution_count": 49,
   "metadata": {},
   "outputs": [
    {
     "name": "stdout",
     "output_type": "stream",
     "text": [
      "['101-App', 'cafe-order', 'linked-list', 'lotto_list', 'oop-test', 'pyqt-clock', 'pyqt-tic-tac-toe', 'pyqt5-file-search', 'pyqt5_examples', 'pyqt_examples', 'python-cookbook', 'python-path', 'PYTHON-SORT', 'react-native-todo-tutorial', 'react-native-tutorial', 'tictactoe', 'ToDoList']\n"
     ]
    }
   ],
   "source": [
    "import os\n",
    "filenames = os.listdir('..')\n",
    "print(filenames)"
   ]
  },
  {
   "cell_type": "code",
   "execution_count": 57,
   "metadata": {},
   "outputs": [
    {
     "name": "stdout",
     "output_type": "stream",
     "text": [
      "yes\n"
     ]
    }
   ],
   "source": [
    "import os\n",
    "text1 = '11/27/2012'\n",
    "text2 = 'Nov 27, 2012'\n",
    "\n",
    "import re\n",
    "if re.match(r'\\d+/\\d+/\\d+', text1):\n",
    "    print('yes')\n",
    "else:\n",
    "    print('no')\n",
    "\n",
    "\n"
   ]
  },
  {
   "cell_type": "code",
   "execution_count": 66,
   "metadata": {},
   "outputs": [],
   "source": [
    "text = 'yeah, but no, but yeah, but no, but yeah'\n",
    "\n",
    "\n",
    "# if letter == 'y'\n",
    "# \n",
    "\n",
    "\n",
    "def replace(text, find, replace):\n",
    "    current_char_count = 0\n",
    "    text_char_count = len(find)-1\n",
    "    for char in text:\n",
    "        if char == find[text_char_count]:\n",
    "            current_char_count += 1\n",
    "\n",
    "replace(text, 'yeah', 'yep') \n",
    "            \n",
    "\n",
    "\n"
   ]
  },
  {
   "cell_type": "code",
   "execution_count": 64,
   "metadata": {},
   "outputs": [
    {
     "name": "stdout",
     "output_type": "stream",
     "text": [
      "2\n",
      "a\n"
     ]
    }
   ],
   "source": [
    "text = 'awd'\n",
    "print(len(text)-1)\n",
    "print(text[0])"
   ]
  },
  {
   "cell_type": "code",
   "execution_count": null,
   "metadata": {},
   "outputs": [],
   "source": [
    "text = 'yeah, but no, but yeah, but no, but yeah'\n",
    "\n",
    "\n",
    "# if letter == 'y'\n",
    "\n",
    "def replace(text, find, replace):\n",
    "    index_start = 0\n",
    "    current_char_count = 0\n",
    "    text_char_count = len(find)-1\n",
    "    for char in range(len(text)):\n",
    "        if char == find[text_char_count]:\n",
    "            current_char_count += 1\n",
    "        if char\n",
    "\n",
    "replace(text, 'yeah', 'yep') "
   ]
  }
 ],
 "metadata": {
  "kernelspec": {
   "display_name": "Python 3",
   "language": "python",
   "name": "python3"
  },
  "language_info": {
   "codemirror_mode": {
    "name": "ipython",
    "version": 3
   },
   "file_extension": ".py",
   "mimetype": "text/x-python",
   "name": "python",
   "nbconvert_exporter": "python",
   "pygments_lexer": "ipython3",
   "version": "3.10.4"
  },
  "orig_nbformat": 4
 },
 "nbformat": 4,
 "nbformat_minor": 2
}
