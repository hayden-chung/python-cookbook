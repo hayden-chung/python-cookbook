{
 "cells": [
  {
   "cell_type": "code",
   "execution_count": 1,
   "metadata": {},
   "outputs": [
    {
     "data": {
      "text/plain": [
       "3"
      ]
     },
     "execution_count": 1,
     "metadata": {},
     "output_type": "execute_result"
    }
   ],
   "source": [
    "1+2"
   ]
  },
  {
   "cell_type": "code",
   "execution_count": 17,
   "metadata": {},
   "outputs": [
    {
     "name": "stdout",
     "output_type": "stream",
     "text": [
      "ACEM 50 91.1 ACEM\n",
      "ACEM\n",
      "2012 12 21\n"
     ]
    }
   ],
   "source": [
    "data = [\"ACEM\", 50, 91.1, (2012, 12, 21)]\n",
    "_, nummber, decimal, __= data\n",
    "print(_, nummber, decimal, _)\n",
    "print(_)\n",
    "year, month, day = __\n",
    "print(year, month, day)"
   ]
  },
  {
   "cell_type": "code",
   "execution_count": 21,
   "metadata": {},
   "outputs": [
    {
     "name": "stdout",
     "output_type": "stream",
     "text": [
      "['dave@example.com', '123-4567-890', '123-1923-123']\n"
     ]
    }
   ],
   "source": [
    "record = (\"Dave\", \"dave@example.com\", \"123-4567-890\", \"123-1923-123\")\n",
    "name, *email = record\n",
    "print(email)"
   ]
  },
  {
   "cell_type": "code",
   "execution_count": 25,
   "metadata": {},
   "outputs": [
    {
     "name": "stdout",
     "output_type": "stream",
     "text": [
      "(0, 'a')\n",
      "(1, 'b')\n",
      "(2, 'c')\n"
     ]
    }
   ],
   "source": [
    "a = ['a', 'b', 'c']\n",
    "b = [(0, 'a'), (1, 'b'), (2, 'c')]\n",
    "\n",
    "for i in enumerate(a):\n",
    "    print(i)"
   ]
  },
  {
   "cell_type": "code",
   "execution_count": 35,
   "metadata": {},
   "outputs": [
    {
     "name": "stdout",
     "output_type": "stream",
     "text": [
      "[0, 1, 2, 3, 4, 5, 6, 7, 8, 9, 10, 11, 12, 13, 14, 15, 16, 17, 18, 19, 20, 21, 22, 23, 24, 25, 26, 27, 28, 29, 30, 31, 32, 33, 34, 35, 36, 37, 38, 39, 40, 41, 42, 43, 44, 45, 46, 47, 48, 49, 50, 51, 52, 53, 54, 55, 56, 57, 58, 59, 60, 61, 62, 63, 64, 65, 66, 67, 68, 69, 70, 71, 72, 73, 74, 75, 76, 77, 78, 79, 80, 81, 82, 83, 84, 85, 86, 87, 88, 89, 90, 91, 92, 93, 94, 95, 96, 97, 98, 99]\n",
      "[95, 96, 97, 98, 99]\n"
     ]
    }
   ],
   "source": [
    "a = []\n",
    "\n",
    "for i in range(100):\n",
    "    a.append(i)\n",
    "\n",
    "a\n",
    "*_, one, two, three, four, five = a\n",
    "history_list = [*_, one, two, three, four, five]\n",
    "print(history_list)\n",
    "\n",
    "history = a[:-6:-1]\n",
    "print(history[::-1])\n",
    "\n",
    "def linkedList(a):\n",
    "    head = a[0]\n",
    "    tail = head\n",
    "    for i in range(1, len(a)):\n",
    "        node = a[i]\n",
    "\n"
   ]
  },
  {
   "cell_type": "code",
   "execution_count": 38,
   "metadata": {},
   "outputs": [
    {
     "name": "stdout",
     "output_type": "stream",
     "text": [
      "[65, 66, 67, 68, 69]\n"
     ]
    }
   ],
   "source": [
    "a = []\n",
    "\n",
    "for i in range(100):\n",
    "    a.append(i)\n",
    "\n",
    "new_list = []\n",
    "\n",
    "for i in a:\n",
    "\n",
    "    if i == 70:\n",
    "        break\n",
    "    if len(new_list) >= 5:\n",
    "        new_list.pop(0)\n",
    "\n",
    "    new_list.append(i)\n",
    "\n",
    "print(new_list)"
   ]
  },
  {
   "cell_type": "code",
   "execution_count": 45,
   "metadata": {},
   "outputs": [
    {
     "name": "stdout",
     "output_type": "stream",
     "text": [
      "[-4, 1, 2, 2, 7, 8, 18, 23, 23, 37, 42]\n",
      "[-4, 1, 2]\n",
      "[23, 37, 42]\n"
     ]
    }
   ],
   "source": [
    "nums = [1, 8, 2, 23, 7, -4, 18, 23, 42, 37, 2]\n",
    "\n",
    "nums.sort()\n",
    "print(nums)\n",
    "n = 3\n",
    "print(nums[:n])\n",
    "print(nums[-n:])\n",
    "\n",
    "\n",
    "\n",
    "\n"
   ]
  },
  {
   "cell_type": "code",
   "execution_count": null,
   "metadata": {},
   "outputs": [],
   "source": []
  }
 ],
 "metadata": {
  "kernelspec": {
   "display_name": "Python 3",
   "language": "python",
   "name": "python3"
  },
  "language_info": {
   "codemirror_mode": {
    "name": "ipython",
    "version": 3
   },
   "file_extension": ".py",
   "mimetype": "text/x-python",
   "name": "python",
   "nbconvert_exporter": "python",
   "pygments_lexer": "ipython3",
   "version": "3.10.4"
  },
  "orig_nbformat": 4
 },
 "nbformat": 4,
 "nbformat_minor": 2
}
